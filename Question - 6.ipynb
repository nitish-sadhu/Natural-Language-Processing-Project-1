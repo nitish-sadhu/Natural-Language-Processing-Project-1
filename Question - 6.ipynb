{
 "cells": [
  {
   "cell_type": "markdown",
   "source": [
    "# NLP Assignment 1 (40% of grade): Text classification for Fake News Detection\n",
    "\n",
    "This coursework will involve you implementing functions for a text classifier, which you will train to detect **fake news** in a corpus of approx. 10,000 statements, which will be split into a 80%/20% training/test split.\n",
    "\n",
    "In this template you are given the basis for that implementation, though some of the functions are missing, which you have to fill in.\n",
    "\n",
    "Follow the instructions file **NLP_Assignment_1_Instructions.pdf** for details of each question - the outline of what needs to be achieved for each question is as below.\n",
    "\n",
    "You must submit all **ipython notebooks and extra resources you need to run the code if you've added them** in the code submission, and a **2 page report (pdf)** in the report submission on QMPlus where you report your methods and findings according to the instructions file for each question."
   ],
   "metadata": {
    "collapsed": false
   }
  },
  {
   "cell_type": "code",
   "execution_count": 453,
   "outputs": [
    {
     "name": "stdout",
     "output_type": "stream",
     "text": [
      "Requirement already satisfied: ipykernel in /Users/nitishsadhu/opt/anaconda3/lib/python3.9/site-packages (6.17.1)\r\n",
      "Requirement already satisfied: psutil in /Users/nitishsadhu/opt/anaconda3/lib/python3.9/site-packages (from ipykernel) (5.9.0)\r\n",
      "Requirement already satisfied: matplotlib-inline>=0.1 in /Users/nitishsadhu/opt/anaconda3/lib/python3.9/site-packages (from ipykernel) (0.1.6)\r\n",
      "Requirement already satisfied: packaging in /Users/nitishsadhu/opt/anaconda3/lib/python3.9/site-packages (from ipykernel) (21.3)\r\n",
      "Requirement already satisfied: nest-asyncio in /Users/nitishsadhu/opt/anaconda3/lib/python3.9/site-packages (from ipykernel) (1.5.5)\r\n",
      "Requirement already satisfied: traitlets>=5.1.0 in /Users/nitishsadhu/opt/anaconda3/lib/python3.9/site-packages (from ipykernel) (5.1.1)\r\n",
      "Requirement already satisfied: jupyter-client>=6.1.12 in /Users/nitishsadhu/opt/anaconda3/lib/python3.9/site-packages (from ipykernel) (7.3.4)\r\n",
      "Requirement already satisfied: appnope in /Users/nitishsadhu/opt/anaconda3/lib/python3.9/site-packages (from ipykernel) (0.1.2)\r\n",
      "Requirement already satisfied: debugpy>=1.0 in /Users/nitishsadhu/opt/anaconda3/lib/python3.9/site-packages (from ipykernel) (1.5.1)\r\n",
      "Requirement already satisfied: ipython>=7.23.1 in /Users/nitishsadhu/opt/anaconda3/lib/python3.9/site-packages (from ipykernel) (7.31.1)\r\n",
      "Requirement already satisfied: pyzmq>=17 in /Users/nitishsadhu/opt/anaconda3/lib/python3.9/site-packages (from ipykernel) (23.2.0)\r\n",
      "Requirement already satisfied: tornado>=6.1 in /Users/nitishsadhu/opt/anaconda3/lib/python3.9/site-packages (from ipykernel) (6.1)\r\n",
      "Requirement already satisfied: decorator in /Users/nitishsadhu/opt/anaconda3/lib/python3.9/site-packages (from ipython>=7.23.1->ipykernel) (5.1.1)\r\n",
      "Requirement already satisfied: jedi>=0.16 in /Users/nitishsadhu/opt/anaconda3/lib/python3.9/site-packages (from ipython>=7.23.1->ipykernel) (0.18.1)\r\n",
      "Requirement already satisfied: pygments in /Users/nitishsadhu/opt/anaconda3/lib/python3.9/site-packages (from ipython>=7.23.1->ipykernel) (2.11.2)\r\n",
      "Requirement already satisfied: backcall in /Users/nitishsadhu/opt/anaconda3/lib/python3.9/site-packages (from ipython>=7.23.1->ipykernel) (0.2.0)\r\n",
      "Requirement already satisfied: setuptools>=18.5 in /Users/nitishsadhu/opt/anaconda3/lib/python3.9/site-packages (from ipython>=7.23.1->ipykernel) (63.4.1)\r\n",
      "Requirement already satisfied: pickleshare in /Users/nitishsadhu/opt/anaconda3/lib/python3.9/site-packages (from ipython>=7.23.1->ipykernel) (0.7.5)\r\n",
      "Requirement already satisfied: prompt-toolkit!=3.0.0,!=3.0.1,<3.1.0,>=2.0.0 in /Users/nitishsadhu/opt/anaconda3/lib/python3.9/site-packages (from ipython>=7.23.1->ipykernel) (3.0.20)\r\n",
      "Requirement already satisfied: pexpect>4.3 in /Users/nitishsadhu/opt/anaconda3/lib/python3.9/site-packages (from ipython>=7.23.1->ipykernel) (4.8.0)\r\n",
      "Requirement already satisfied: entrypoints in /Users/nitishsadhu/opt/anaconda3/lib/python3.9/site-packages (from jupyter-client>=6.1.12->ipykernel) (0.4)\r\n",
      "Requirement already satisfied: jupyter-core>=4.9.2 in /Users/nitishsadhu/opt/anaconda3/lib/python3.9/site-packages (from jupyter-client>=6.1.12->ipykernel) (4.11.1)\r\n",
      "Requirement already satisfied: python-dateutil>=2.8.2 in /Users/nitishsadhu/opt/anaconda3/lib/python3.9/site-packages (from jupyter-client>=6.1.12->ipykernel) (2.8.2)\r\n",
      "Requirement already satisfied: pyparsing!=3.0.5,>=2.0.2 in /Users/nitishsadhu/opt/anaconda3/lib/python3.9/site-packages (from packaging->ipykernel) (3.0.9)\r\n",
      "Requirement already satisfied: parso<0.9.0,>=0.8.0 in /Users/nitishsadhu/opt/anaconda3/lib/python3.9/site-packages (from jedi>=0.16->ipython>=7.23.1->ipykernel) (0.8.3)\r\n",
      "Requirement already satisfied: ptyprocess>=0.5 in /Users/nitishsadhu/opt/anaconda3/lib/python3.9/site-packages (from pexpect>4.3->ipython>=7.23.1->ipykernel) (0.7.0)\r\n",
      "Requirement already satisfied: wcwidth in /Users/nitishsadhu/opt/anaconda3/lib/python3.9/site-packages (from prompt-toolkit!=3.0.0,!=3.0.1,<3.1.0,>=2.0.0->ipython>=7.23.1->ipykernel) (0.2.5)\r\n",
      "Requirement already satisfied: six>=1.5 in /Users/nitishsadhu/opt/anaconda3/lib/python3.9/site-packages (from python-dateutil>=2.8.2->jupyter-client>=6.1.12->ipykernel) (1.16.0)\r\n"
     ]
    }
   ],
   "source": [
    "!pip install ipykernel --upgrade"
   ],
   "metadata": {
    "collapsed": false
   }
  },
  {
   "cell_type": "code",
   "execution_count": 454,
   "outputs": [
    {
     "name": "stdout",
     "output_type": "stream",
     "text": [
      "Requirement already satisfied: nltk in /Users/nitishsadhu/opt/anaconda3/lib/python3.9/site-packages (3.7)\r\n",
      "Requirement already satisfied: click in /Users/nitishsadhu/opt/anaconda3/lib/python3.9/site-packages (from nltk) (8.0.4)\r\n",
      "Requirement already satisfied: tqdm in /Users/nitishsadhu/opt/anaconda3/lib/python3.9/site-packages (from nltk) (4.64.1)\r\n",
      "Requirement already satisfied: regex>=2021.8.3 in /Users/nitishsadhu/opt/anaconda3/lib/python3.9/site-packages (from nltk) (2022.7.9)\r\n",
      "Requirement already satisfied: joblib in /Users/nitishsadhu/opt/anaconda3/lib/python3.9/site-packages (from nltk) (1.1.0)\r\n"
     ]
    }
   ],
   "source": [
    "!pip install nltk"
   ],
   "metadata": {
    "collapsed": false
   }
  },
  {
   "cell_type": "code",
   "execution_count": 455,
   "outputs": [
    {
     "name": "stderr",
     "output_type": "stream",
     "text": [
      "[nltk_data] Downloading package stopwords to\n",
      "[nltk_data]     /Users/nitishsadhu/nltk_data...\n",
      "[nltk_data]   Package stopwords is already up-to-date!\n",
      "[nltk_data] Downloading package wordnet to\n",
      "[nltk_data]     /Users/nitishsadhu/nltk_data...\n",
      "[nltk_data]   Package wordnet is already up-to-date!\n",
      "[nltk_data] Downloading package omw-1.4 to\n",
      "[nltk_data]     /Users/nitishsadhu/nltk_data...\n",
      "[nltk_data]   Package omw-1.4 is already up-to-date!\n"
     ]
    },
    {
     "data": {
      "text/plain": "True"
     },
     "execution_count": 455,
     "metadata": {},
     "output_type": "execute_result"
    }
   ],
   "source": [
    "import nltk\n",
    "from nltk.corpus import stopwords   # importing stopword\n",
    "nltk.download('stopwords')  # downloading stopwords\n",
    "nltk.download('wordnet')    # downloading wordnet\n",
    "nltk.download('omw-1.4')    # downloading omw-1.4"
   ],
   "metadata": {
    "collapsed": false
   }
  },
  {
   "cell_type": "code",
   "execution_count": 456,
   "outputs": [],
   "source": [
    "vocabulary= {}  # initializing vocabulary dictionary"
   ],
   "metadata": {
    "collapsed": false
   }
  },
  {
   "cell_type": "code",
   "execution_count": 457,
   "outputs": [],
   "source": [
    "import csv                               # csv reader\n",
    "from sklearn.svm import LinearSVC\n",
    "from nltk.classify import SklearnClassifier\n",
    "from sklearn.pipeline import Pipeline\n",
    "from sklearn.metrics import precision_recall_fscore_support, accuracy_score # to report on precision and recall\n",
    "import numpy as np\n",
    "import re\n",
    "import string\n",
    "from nltk.stem import WordNetLemmatizer"
   ],
   "metadata": {
    "collapsed": false
   }
  },
  {
   "cell_type": "code",
   "execution_count": 458,
   "outputs": [],
   "source": [
    "MIN_FREQ = 2"
   ],
   "metadata": {
    "collapsed": false
   }
  },
  {
   "cell_type": "code",
   "execution_count": 459,
   "outputs": [],
   "source": [
    "def load_data(path):\n",
    "    \"\"\"Load data from a tab-separated file and append it to raw_data.\"\"\"\n",
    "    with open(path) as f:\n",
    "        reader = csv.reader(f, delimiter='\\t')\n",
    "        for line in reader:\n",
    "            if line[0] == \"Id\":  # skip header\n",
    "                continue\n",
    "            (label, text) = parse_data_line(line)\n",
    "            raw_data.append((text, label))\n",
    "    vocab(raw_data=raw_data,vocabulary=vocabulary)  # Calling vocab method\n",
    "    return raw_data\n",
    "\n",
    "def split_and_preprocess_data(percentage):\n",
    "    \"\"\"Split the data between train_data and test_data according to the percentage\n",
    "    and performs the preprocessing.\"\"\"\n",
    "    num_samples = len(raw_data)\n",
    "    num_training_samples = int((percentage * num_samples))\n",
    "    for (text, label) in raw_data[:num_training_samples]:\n",
    "        train_data.append((text,label))\n",
    "    for (text, label) in raw_data[num_training_samples:]:\n",
    "        test_data.append((text,label))\n",
    "\n",
    "def vocab(raw_data, vocabulary):\n",
    "    \"\"\"Builds a vocabulary of words that occur equal to or more than a threshold\"\"\"\n",
    "    for (t, l) in raw_data:     # Copies words and their frequencies in raw data to vocabulary dictionary\n",
    "        words = t.keys()\n",
    "        for w in words:\n",
    "            if w in vocabulary.keys():\n",
    "                vocabulary[w] += 1\n",
    "            else:\n",
    "                vocabulary[w] = 1\n",
    "\n",
    "    vocab_keys = list(vocabulary.keys())\n",
    "    for key in vocab_keys:      # Removes words that occur less than twice\n",
    "        if vocabulary[key] < MIN_FREQ:\n",
    "            vocabulary.pop(key)\n",
    "\n",
    "    vocabulary = list(vocabulary.keys())"
   ],
   "metadata": {
    "collapsed": false
   }
  },
  {
   "cell_type": "code",
   "execution_count": 460,
   "outputs": [],
   "source": [
    "def convert_label(label):\n",
    "    \"\"\"Converts the multiple classes into two,\n",
    "    making it a binary distinction between fake news and real.\"\"\"\n",
    "    #return label\n",
    "    # Converting the multiclass labels to binary label\n",
    "    labels_map = {\n",
    "        'true': 'REAL',\n",
    "        'mostly-true': 'REAL',\n",
    "        'half-true': 'REAL',\n",
    "        'false': 'FAKE',\n",
    "        'barely-true': 'FAKE',\n",
    "        'pants-fire': 'FAKE'\n",
    "    }\n",
    "    return labels_map[label]\n",
    "\n",
    "\n",
    "def parse_data_line(data_line):\n",
    "    \"\"\" Returns a tuple of the label as just FAKE or REAL and the statement \"\"\"\n",
    "\n",
    "    label = convert_label(data_line[1].lower())     # Label of the text\n",
    "    info = to_feature_vector(pre_process(data_line[2]))\n",
    "    info['text_subject'] = data_line[3]     # subject of the text\n",
    "    info['text_speaker'] = data_line[4]     # Speaker of the text\n",
    "    info['text_speaker_job_title'] = data_line[5]       # Job title of the speaker\n",
    "    #info['text_state_info'] = data_line[6]      # State the subject of text happened in\n",
    "    info['text_party'] = data_line[7]       # Party of the speaker\n",
    "    info['text_fake'] = int(data_line[8]) + int(data_line[12]) + int(data_line[9])      # Number of times the text spoken by the speaker was fake\n",
    "    info['text_real'] = int(data_line[10]) + int(data_line[11])      # Number of times the text spoken by the speaker was real\n",
    "    info['text_context'] = data_line[13]    # Context of the text\n",
    "    return (label, info)"
   ],
   "metadata": {
    "collapsed": false
   }
  },
  {
   "cell_type": "code",
   "execution_count": 461,
   "outputs": [],
   "source": [
    "\n",
    "# Input: a string of one statement\n",
    "def pre_process(text):\n",
    "    \"\"\" Returns a list of processed tokens from a given text\"\"\"\n",
    "    lemmatizer = WordNetLemmatizer()    # Initializing word lemmatizer\n",
    "\n",
    "    # Removing punctuations\n",
    "    if False:\n",
    "        text = text.translate(str.maketrans('', '', string.punctuation))\n",
    "    # Keeping the punctuations\n",
    "    else:\n",
    "        # separates punctuation from the start of the array\n",
    "        text = re.sub(r\"(\\w)([.,;:!?'\\\"”\\)])\", r\"\\1 \\2\", text)\n",
    "\n",
    "        # separates punctuation from the end of the array\n",
    "        text = re.sub(r\"([.,;:!?'\\\"”\\)])(\\w)\", r\"\\1 \\2\", text)\n",
    "\n",
    "    # Stripping the text of space at the start and the end\n",
    "    if True:\n",
    "        text = text.strip()\n",
    "\n",
    "    # Splitting the text to tokens by space\n",
    "    tokens = re.split('\\s+', text)\n",
    "\n",
    "    # Converting the tokens to lower-case\n",
    "    if True:\n",
    "        tokens = [t.lower() for t in tokens]\n",
    "\n",
    "    # Removing stopwords\n",
    "    if False:\n",
    "        tokens = [word for word in tokens if not word in stopwords.words('english')]\n",
    "\n",
    "    # Lemmatizing the tokens\n",
    "    if False:\n",
    "        tokens = [lemmatizer.lemmatize(t) for t in tokens]\n",
    "    return tokens"
   ],
   "metadata": {
    "collapsed": false
   }
  },
  {
   "cell_type": "code",
   "execution_count": 462,
   "outputs": [],
   "source": [
    "def to_feature_vector(tokens, training = False):\n",
    "    # Should return a dictionary containing features as keys, and weights as values\n",
    "    # DESCRIBE YOUR METHOD IN WORDS\n",
    "    feature_vector = {}   # initializing the feature_vector\n",
    "\n",
    "    for t in tokens:\n",
    "\n",
    "        try:\n",
    "            # increasing the count if the token already exists\n",
    "            feature_vector[t] += 1\n",
    "\n",
    "        except KeyError:\n",
    "            # inserting a new token\n",
    "            feature_vector[t] = 1\n",
    "\n",
    "    return feature_vector\n"
   ],
   "metadata": {
    "collapsed": false
   }
  },
  {
   "cell_type": "code",
   "execution_count": 463,
   "outputs": [],
   "source": [
    "# TRAINING AND VALIDATING OUR CLASSIFIER\n",
    "\n",
    "def train_classifier(data):\n",
    "    print(\"Training Classifier...\")\n",
    "    pipeline =  Pipeline([('svc', LinearSVC(class_weight='balanced'))])\n",
    "    return SklearnClassifier(pipeline).train(data)"
   ],
   "metadata": {
    "collapsed": false
   }
  },
  {
   "cell_type": "code",
   "execution_count": 464,
   "outputs": [],
   "source": [
    "#solution\n",
    "from sklearn.metrics import classification_report\n",
    "\n",
    "# Initializing cv_results dictionary and defining its keys\n",
    "cv_results = {}\n",
    "cv_results.fromkeys(['precision', 'recall', 'fscore', 'accuracy'])\n",
    "\n",
    "def cross_validate(dataset, folds):\n",
    "\n",
    "    \"\"\"This method evaluates a model using the given data by using the k-fold cross validation\"\"\"\n",
    "\n",
    "    # Initializing lists to store computed values\n",
    "    precision = []\n",
    "    recall = []\n",
    "    fscore = []\n",
    "    accuracy = []\n",
    "\n",
    "    # Calculating the fold size\n",
    "    fold_size = int(len(dataset)/folds) + 1\n",
    "\n",
    "    for i in range(0,len(dataset),int(fold_size)):\n",
    "        # insert code here that trains and tests on the 10 folds of data in the dataset\n",
    "        print(\"Fold start on items %d - %d\" % (i, i+fold_size))\n",
    "        # FILL IN THE METHOD HERE\n",
    "\n",
    "        # Diving the given data into training and validation data\n",
    "        training_data = dataset[0:i] + dataset[(i + fold_size):len(dataset)]\n",
    "        val_data = dataset[i:(i + fold_size)]\n",
    "\n",
    "        # Training a model with training data\n",
    "        classifier = train_classifier(training_data)\n",
    "\n",
    "        # predicting the labels using validation data\n",
    "        val_to_pred = [(d) for (d, s) in val_data]\n",
    "        val_pred = predict_labels(val_to_pred, classifier)\n",
    "\n",
    "        # separating the labels from the text and storing them in a list\n",
    "        val_true = [t[1] for t in val_data]\n",
    "\n",
    "        # calculating the metrics\n",
    "        p, r, f, s = precision_recall_fscore_support(val_true, val_pred, average='weighted')\n",
    "        a = accuracy_score(val_true, val_pred)\n",
    "\n",
    "        # Storing metrics of the current fold in lists\n",
    "        precision.append(p)\n",
    "        recall.append(r)\n",
    "        fscore.append(f)\n",
    "        accuracy.append(a)\n",
    "\n",
    "    # Storing the overall metrics in cv_results dictionary\n",
    "    cv_results['precsion'] = sum(precision)/len(precision)\n",
    "    cv_results['recall'] = sum(recall)/len(recall)\n",
    "    cv_results['fscore'] = sum(fscore)/len(fscore)\n",
    "    cv_results['accuracy'] = sum(accuracy)/len(accuracy)\n",
    "\n",
    "    # Printing results\n",
    "    print(cv_results)\n",
    "\n",
    "    return None\n"
   ],
   "metadata": {
    "collapsed": false
   }
  },
  {
   "cell_type": "code",
   "execution_count": 465,
   "outputs": [
    {
     "name": "stdout",
     "output_type": "stream",
     "text": [
      "Now 0 rawData, 0 trainData, 0 testData\n",
      "Preparing the dataset...\n",
      "Now 10241 rawData, 0 trainData, 0 testData\n",
      "Preparing training and test data...\n",
      "After split, 10241 rawData, 8192 trainData, 2049 testData\n",
      "Training Samples: \n",
      "8192\n",
      "Features: \n",
      "1\n"
     ]
    }
   ],
   "source": [
    "# MAIN\n",
    "\n",
    "# loading reviews\n",
    "# initialize global lists that will be appended to by the methods below\n",
    "raw_data = []          # the filtered data from the dataset file\n",
    "train_data = []        # the pre-processed training data as a percentage of the total dataset\n",
    "test_data = []         # the pre-processed test data as a percentage of the total dataset\n",
    "\n",
    "\n",
    "# references to the data files\n",
    "data_file_path = 'fake_news.tsv'\n",
    "\n",
    "# Do the actual stuff (i.e. call the functions we've made)\n",
    "# We parse the dataset and put it in a raw data list\n",
    "print(\"Now %d rawData, %d trainData, %d testData\" % (len(raw_data), len(train_data), len(test_data)),\n",
    "      \"Preparing the dataset...\",sep='\\n')\n",
    "\n",
    "load_data(data_file_path)\n",
    "\n",
    "# We split the raw dataset into a set of training data and a set of test data (80/20)\n",
    "# You do the cross validation on the 80% (training data)\n",
    "# We print the number of training samples and the number of features before the split\n",
    "print(\"Now %d rawData, %d trainData, %d testData\" % (len(raw_data), len(train_data), len(test_data)),\n",
    "      \"Preparing training and test data...\",sep='\\n')\n",
    "\n",
    "split_and_preprocess_data(0.8)\n",
    "\n",
    "# We print the number of training samples and the number of features after the split\n",
    "print(\"After split, %d rawData, %d trainData, %d testData\" % (len(raw_data), len(train_data), len(test_data)),\n",
    "      \"Training Samples: \", len(train_data), \"Features: \", len(global_feature_dict), sep='\\n')\n"
   ],
   "metadata": {
    "collapsed": false
   }
  },
  {
   "cell_type": "code",
   "execution_count": 466,
   "outputs": [],
   "source": [
    "# PREDICTING LABELS GIVEN A CLASSIFIER\n",
    "\n",
    "def predict_labels(samples, classifier):\n",
    "    \"\"\"Assuming preprocessed samples, return their predicted labels from the classifier model.\"\"\"\n",
    "    return classifier.classify_many(samples)\n",
    "\n",
    "def predict_label_from_raw(sample, classifier):\n",
    "    \"\"\"Assuming raw text, return its predicted label from the classifier model.\"\"\"\n",
    "    return classifier.classify(to_feature_vector(pre_process(sample)))"
   ],
   "metadata": {
    "collapsed": false
   }
  },
  {
   "cell_type": "code",
   "execution_count": 467,
   "outputs": [],
   "source": [
    "from sklearn import metrics\n",
    "import matplotlib.pyplot as plt\n",
    "# a function to make the confusion matrix readable and pretty\n",
    "def confusion_matrix_heatmap(y_test, preds, labels):\n",
    "    \"\"\"Function to plot a confusion matrix\"\"\"\n",
    "    # pass labels to the confusion matrix function to ensure right order\n",
    "    cm = metrics.confusion_matrix(y_test, preds, labels = labels)\n",
    "    fig = plt.figure(figsize=(10,10))\n",
    "    ax = fig.add_subplot(111)\n",
    "    cax = ax.matshow(cm)\n",
    "    plt.title('Confusion matrix of the classifier')\n",
    "    fig.colorbar(cax)\n",
    "    ax.set_xticks(np.arange(len(labels)))\n",
    "    ax.set_yticks(np.arange(len(labels)))\n",
    "    ax.set_xticklabels( labels, rotation=45)\n",
    "    ax.set_yticklabels( labels)\n",
    "\n",
    "    for i in range(len(cm)):\n",
    "        for j in range(len(cm)):\n",
    "            text = ax.text(j, i, cm[i, j],\n",
    "                           ha=\"center\", va=\"center\", color=\"w\")\n",
    "\n",
    "    plt.xlabel('Predicted')\n",
    "    plt.ylabel('True')\n",
    "\n",
    "    # fix for mpl bug that cuts off top/bottom of seaborn viz:\n",
    "    b, t = plt.ylim() # discover the values for bottom and top\n",
    "    b += 0.5 # Add 0.5 to the bottom\n",
    "    t -= 0.5 # Subtract 0.5 from the top\n",
    "    plt.ylim(b, t) # update the ylim(bottom, top) values\n",
    "    plt.show() # ta-da!\n",
    "    plt.show()"
   ],
   "metadata": {
    "collapsed": false
   }
  },
  {
   "cell_type": "code",
   "execution_count": 468,
   "outputs": [
    {
     "name": "stdout",
     "output_type": "stream",
     "text": [
      "Training Classifier...\n"
     ]
    },
    {
     "name": "stderr",
     "output_type": "stream",
     "text": [
      "/Users/nitishsadhu/opt/anaconda3/lib/python3.9/site-packages/sklearn/svm/_base.py:1206: ConvergenceWarning: Liblinear failed to converge, increase the number of iterations.\n",
      "  warnings.warn(\n"
     ]
    },
    {
     "data": {
      "text/plain": "<Figure size 1000x1000 with 2 Axes>",
      "image/png": "[encoded data removed]"
     },
     "metadata": {},
     "output_type": "display_data"
    }
   ],
   "source": [
    "# ERROR ANALYSIS USING THE FIRST FOLD\n",
    "\n",
    "# Computing fold size\n",
    "fold_size = int(len(train_data)/10) + 1\n",
    "\n",
    "# Splitting training data and testing data\n",
    "training_data = train_data[fold_size : len(train_data)]\n",
    "testing_data = train_data[0 : fold_size]\n",
    "\n",
    "# Getting labels to a list for validation\n",
    "test_true = [l for (d, l) in testing_data]\n",
    "\n",
    "# Predicting from test data\n",
    "test_to_pred = [(d) for (d, s) in testing_data]\n",
    "test_pred = predict_labels(test_to_pred, train_classifier(training_data))\n",
    "\n",
    "# Plotting a heat map using confusion_matrix_heatmap method\n",
    "confusion_matrix_heatmap(test_true, test_pred, labels = ['FAKE', 'REAL'])"
   ],
   "metadata": {
    "collapsed": false
   }
  },
  {
   "cell_type": "markdown",
   "source": [
    "# Questions 5 (20%) and 6 (20%) (recommend starting a new notebook)"
   ],
   "metadata": {
    "collapsed": false
   }
  },
  {
   "cell_type": "code",
   "execution_count": 469,
   "outputs": [
    {
     "name": "stdout",
     "output_type": "stream",
     "text": [
      "({'the': 2, 'bush': 1, 'tax': 1, 'cuts': 1, 'helped': 1, 'to': 1, 'create': 1, 'a': 1, 'substantial': 1, 'part': 1, 'of': 1, 'deficit': 1, '.': 1, 'text_subject': 'bush-administration,deficit,taxes', 'text_speaker': 'dennis-kucinich', 'text_speaker_job_title': 'U.S. representative', 'text_party': 'democrat', 'text_fake': 4, 'text_real': 10, 'text_context': 'a radio interview'}, 'REAL')\n",
      "Training Classifier...\n",
      "Done training!\n",
      "Precision: 0.599881\n",
      "Recall: 0.599805\n",
      "F Score:0.599842\n"
     ]
    },
    {
     "name": "stderr",
     "output_type": "stream",
     "text": [
      "/Users/nitishsadhu/opt/anaconda3/lib/python3.9/site-packages/sklearn/svm/_base.py:1206: ConvergenceWarning: Liblinear failed to converge, increase the number of iterations.\n",
      "  warnings.warn(\n"
     ]
    }
   ],
   "source": [
    "# Finally, check the accuracy of your classifier by training on all the traning data\n",
    "# and testing on the test set\n",
    "# Will only work once all functions are complete\n",
    "functions_complete = True  # set to True once you're happy with your methods for cross val\n",
    "if functions_complete:\n",
    "    print(test_data[0])   # have a look at the first test data instance\n",
    "    classifier = train_classifier(train_data)  # train the classifier\n",
    "    test_true = [t[1] for t in test_data]   # get the ground-truth labels from the data\n",
    "    test_pred = predict_labels([x[0] for x in test_data], classifier)  # classify the test data to get predicted labels\n",
    "    final_scores = precision_recall_fscore_support(test_true, test_pred, average='weighted') # evaluate\n",
    "    print(\"Done training!\")\n",
    "    print(\"Precision: %f\\nRecall: %f\\nF Score:%f\" % final_scores[:3])"
   ],
   "metadata": {
    "collapsed": false
   }
  },
  {
   "cell_type": "code",
   "execution_count": 470,
   "outputs": [
    {
     "name": "stdout",
     "output_type": "stream",
     "text": [
      "0.5998047828208882\n"
     ]
    }
   ],
   "source": [
    "# Calculating the accuracy\n",
    "acc = sum(1*(np.array(test_pred) == np.array(test_true)))/len(test_true)\n",
    "print(acc)"
   ],
   "metadata": {
    "collapsed": false
   }
  },
  {
   "cell_type": "code",
   "execution_count": 471,
   "outputs": [],
   "source": [],
   "metadata": {
    "collapsed": false
   }
  }
 ],
 "metadata": {
  "kernelspec": {
   "display_name": "Python 3",
   "language": "python",
   "name": "python3"
  },
  "language_info": {
   "codemirror_mode": {
    "name": "ipython",
    "version": 2
   },
   "file_extension": ".py",
   "mimetype": "text/x-python",
   "name": "python",
   "nbconvert_exporter": "python",
   "pygments_lexer": "ipython2",
   "version": "2.7.6"
  }
 },
 "nbformat": 4,
 "nbformat_minor": 0
}
